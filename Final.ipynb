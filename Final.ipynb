{
 "cells": [
  {
   "cell_type": "code",
   "execution_count": 1,
   "metadata": {},
   "outputs": [],
   "source": [
    "import pandas as pd\n",
    "import os\n",
    "import jieba\n",
    "import codecs\n",
    "import jieba\n",
    "import re\n",
    "from sklearn.feature_extraction.text import TfidfVectorizer\n",
    "from sklearn.model_selection import train_test_split\n",
    "from sklearn.metrics.scorer import make_scorer\n",
    "from sklearn import linear_model\n",
    "from sklearn import metrics\n",
    "import numpy as np\n",
    "from time import time \n",
    "from sklearn.linear_model import LogisticRegression\n",
    "from sklearn.utils import shuffle"
   ]
  },
  {
   "cell_type": "code",
   "execution_count": 2,
   "metadata": {},
   "outputs": [
    {
     "name": "stdout",
     "output_type": "stream",
     "text": [
      "<class 'pandas.core.frame.DataFrame'>\n",
      "RangeIndex: 4999 entries, 0 to 4998\n",
      "Data columns (total 6 columns):\n",
      "id            4999 non-null object\n",
      "title         3660 non-null object\n",
      "text          4999 non-null object\n",
      "entity        4981 non-null object\n",
      "negative      4999 non-null int64\n",
      "key_entity    2765 non-null object\n",
      "dtypes: int64(1), object(5)\n",
      "memory usage: 234.4+ KB\n"
     ]
    },
    {
     "data": {
      "text/html": [
       "<div>\n",
       "<style scoped>\n",
       "    .dataframe tbody tr th:only-of-type {\n",
       "        vertical-align: middle;\n",
       "    }\n",
       "\n",
       "    .dataframe tbody tr th {\n",
       "        vertical-align: top;\n",
       "    }\n",
       "\n",
       "    .dataframe thead th {\n",
       "        text-align: right;\n",
       "    }\n",
       "</style>\n",
       "<table border=\"1\" class=\"dataframe\">\n",
       "  <thead>\n",
       "    <tr style=\"text-align: right;\">\n",
       "      <th></th>\n",
       "      <th>id</th>\n",
       "      <th>title</th>\n",
       "      <th>text</th>\n",
       "      <th>entity</th>\n",
       "      <th>negative</th>\n",
       "      <th>key_entity</th>\n",
       "    </tr>\n",
       "  </thead>\n",
       "  <tbody>\n",
       "    <tr>\n",
       "      <th>0</th>\n",
       "      <td>83dcefb7</td>\n",
       "      <td>????发表了博文《【富金利】9月富金利教你如何安全提高最大化收益！》网络理财时代参与互联网...</td>\n",
       "      <td>????发表了博文《【富金利】9月富金利教你如何安全提高最大化收益！》网络理财时代参与互联网...</td>\n",
       "      <td>理财时代;富金利</td>\n",
       "      <td>0</td>\n",
       "      <td>NaN</td>\n",
       "    </tr>\n",
       "    <tr>\n",
       "      <th>1</th>\n",
       "      <td>1ad5be0d</td>\n",
       "      <td>#小资钱包涉嫌诈骗[超话]##小资钱包[超话]##迫切急待回归活命钱##头号直通中纪委[超话...</td>\n",
       "      <td>#小资钱包涉嫌诈骗[超话]##小资钱包[超话]##迫切急待回归活命钱##头号直通中纪委[超话...</td>\n",
       "      <td>小资钱包;恒丰银行</td>\n",
       "      <td>1</td>\n",
       "      <td>小资钱包;恒丰银行</td>\n",
       "    </tr>\n",
       "    <tr>\n",
       "      <th>2</th>\n",
       "      <td>6dd28e9b</td>\n",
       "      <td>?????扫黑除恶 诈骗犯齐聚海淀，保护伞根深蒂固，黑社会嚣张跋扈，出借人走投无路！ 尊敬的...</td>\n",
       "      <td>?????扫黑除恶 诈骗犯齐聚海淀，保护伞根深蒂固，黑社会嚣张跋扈，出借人走投无路！ 尊敬的...</td>\n",
       "      <td>国有投资;资易贷（北京）金融信息服务有限公司;小资钱包;资易贷</td>\n",
       "      <td>1</td>\n",
       "      <td>资易贷（北京）金融信息服务有限公司;小资钱包</td>\n",
       "    </tr>\n",
       "    <tr>\n",
       "      <th>3</th>\n",
       "      <td>1db87a14</td>\n",
       "      <td>平安银行车主贷?????? 1??期限长至48期?? 2??滴滴司机可做?? 3??白户逾期...</td>\n",
       "      <td>平安银行车主贷?????? 1??期限长至48期?? 2??滴滴司机可做?? 3??白户逾期...</td>\n",
       "      <td>平安银行;车主贷;平安银行车主贷</td>\n",
       "      <td>0</td>\n",
       "      <td>NaN</td>\n",
       "    </tr>\n",
       "    <tr>\n",
       "      <th>4</th>\n",
       "      <td>fa005713</td>\n",
       "      <td>NaN</td>\n",
       "      <td>旺旺贷跑路！深圳警方确定投资人被骗！</td>\n",
       "      <td>旺贷;旺旺贷</td>\n",
       "      <td>1</td>\n",
       "      <td>旺旺贷</td>\n",
       "    </tr>\n",
       "    <tr>\n",
       "      <th>5</th>\n",
       "      <td>a15d25e1</td>\n",
       "      <td>NaN</td>\n",
       "      <td>为破解企业发展中的资金周转瓶颈，定南大力推行五个信贷通，截止2018年5月末，全县五个信贷通...</td>\n",
       "      <td>资金周转;小额贷;贷款1;信贷通</td>\n",
       "      <td>0</td>\n",
       "      <td>NaN</td>\n",
       "    </tr>\n",
       "    <tr>\n",
       "      <th>6</th>\n",
       "      <td>3854745b</td>\n",
       "      <td>NaN</td>\n",
       "      <td>?????据了解，为控制风险，温州贷在审核方面十分严格，在温州贷进行审核之前，会有资产端合作...</td>\n",
       "      <td>温州贷</td>\n",
       "      <td>0</td>\n",
       "      <td>NaN</td>\n",
       "    </tr>\n",
       "    <tr>\n",
       "      <th>7</th>\n",
       "      <td>d137d16e</td>\n",
       "      <td>易融贷可信吗？易融贷安全吗</td>\n",
       "      <td>公司简介 　　易融贷： 　　易融贷是由成都易融时代投资咨询有限公司打造的个人借款与出借...</td>\n",
       "      <td>成都易融时代投资咨询有限公司;易融贷</td>\n",
       "      <td>0</td>\n",
       "      <td>NaN</td>\n",
       "    </tr>\n",
       "    <tr>\n",
       "      <th>8</th>\n",
       "      <td>3f39b042</td>\n",
       "      <td>宜贷网P2P网贷平台2018/05/25数据研究</td>\n",
       "      <td>宜贷网P2P网贷平台2018/05/25数据研究 2018-05-26???来源：第一网贷...</td>\n",
       "      <td>宜贷网</td>\n",
       "      <td>0</td>\n",
       "      <td>NaN</td>\n",
       "    </tr>\n",
       "    <tr>\n",
       "      <th>9</th>\n",
       "      <td>d8819d45</td>\n",
       "      <td>无法相爱的原因很简单，因为我只对你一京东白条提现一勇敢·互助·感恩—京东白条提现—对话宜宾地...</td>\n",
       "      <td>无法相爱的原因很简单，因为我只对你一京东白条提现一勇敢·互助·感恩—京东白条提现—对话宜宾地...</td>\n",
       "      <td>京东白条</td>\n",
       "      <td>0</td>\n",
       "      <td>NaN</td>\n",
       "    </tr>\n",
       "  </tbody>\n",
       "</table>\n",
       "</div>"
      ],
      "text/plain": [
       "         id                                              title  \\\n",
       "0  83dcefb7  ????发表了博文《【富金利】9月富金利教你如何安全提高最大化收益！》网络理财时代参与互联网...   \n",
       "1  1ad5be0d  #小资钱包涉嫌诈骗[超话]##小资钱包[超话]##迫切急待回归活命钱##头号直通中纪委[超话...   \n",
       "2  6dd28e9b  ?????扫黑除恶 诈骗犯齐聚海淀，保护伞根深蒂固，黑社会嚣张跋扈，出借人走投无路！ 尊敬的...   \n",
       "3  1db87a14  平安银行车主贷?????? 1??期限长至48期?? 2??滴滴司机可做?? 3??白户逾期...   \n",
       "4  fa005713                                                NaN   \n",
       "5  a15d25e1                                                NaN   \n",
       "6  3854745b                                                NaN   \n",
       "7  d137d16e                                      易融贷可信吗？易融贷安全吗   \n",
       "8  3f39b042                           宜贷网P2P网贷平台2018/05/25数据研究   \n",
       "9  d8819d45  无法相爱的原因很简单，因为我只对你一京东白条提现一勇敢·互助·感恩—京东白条提现—对话宜宾地...   \n",
       "\n",
       "                                                text  \\\n",
       "0  ????发表了博文《【富金利】9月富金利教你如何安全提高最大化收益！》网络理财时代参与互联网...   \n",
       "1  #小资钱包涉嫌诈骗[超话]##小资钱包[超话]##迫切急待回归活命钱##头号直通中纪委[超话...   \n",
       "2  ?????扫黑除恶 诈骗犯齐聚海淀，保护伞根深蒂固，黑社会嚣张跋扈，出借人走投无路！ 尊敬的...   \n",
       "3  平安银行车主贷?????? 1??期限长至48期?? 2??滴滴司机可做?? 3??白户逾期...   \n",
       "4                                 旺旺贷跑路！深圳警方确定投资人被骗！   \n",
       "5  为破解企业发展中的资金周转瓶颈，定南大力推行五个信贷通，截止2018年5月末，全县五个信贷通...   \n",
       "6  ?????据了解，为控制风险，温州贷在审核方面十分严格，在温州贷进行审核之前，会有资产端合作...   \n",
       "7   　　公司简介 　　易融贷： 　　易融贷是由成都易融时代投资咨询有限公司打造的个人借款与出借...   \n",
       "8   宜贷网P2P网贷平台2018/05/25数据研究 2018-05-26???来源：第一网贷...   \n",
       "9  无法相爱的原因很简单，因为我只对你一京东白条提现一勇敢·互助·感恩—京东白条提现—对话宜宾地...   \n",
       "\n",
       "                            entity  negative              key_entity  \n",
       "0                         理财时代;富金利         0                     NaN  \n",
       "1                        小资钱包;恒丰银行         1               小资钱包;恒丰银行  \n",
       "2  国有投资;资易贷（北京）金融信息服务有限公司;小资钱包;资易贷         1  资易贷（北京）金融信息服务有限公司;小资钱包  \n",
       "3                 平安银行;车主贷;平安银行车主贷         0                     NaN  \n",
       "4                           旺贷;旺旺贷         1                     旺旺贷  \n",
       "5                 资金周转;小额贷;贷款1;信贷通         0                     NaN  \n",
       "6                              温州贷         0                     NaN  \n",
       "7               成都易融时代投资咨询有限公司;易融贷         0                     NaN  \n",
       "8                              宜贷网         0                     NaN  \n",
       "9                             京东白条         0                     NaN  "
      ]
     },
     "execution_count": 2,
     "metadata": {},
     "output_type": "execute_result"
    }
   ],
   "source": [
    "df = pd.read_csv('Train_Data.csv',encoding='utf-8')\n",
    "df.info()\n",
    "df.head(10)\n",
    "#数据概览"
   ]
  },
  {
   "cell_type": "markdown",
   "metadata": {},
   "source": []
  },
  {
   "cell_type": "code",
   "execution_count": 3,
   "metadata": {
    "scrolled": true
   },
   "outputs": [
    {
     "name": "stderr",
     "output_type": "stream",
     "text": [
      "Building prefix dict from the default dictionary ...\n",
      "Loading model from cache C:\\Users\\lenovo\\AppData\\Local\\Temp\\jieba.cache\n",
      "Loading model cost 1.371 seconds.\n",
      "Prefix dict has been built successfully.\n"
     ]
    }
   ],
   "source": [
    "import jieba\n",
    "df['text'] = df.text.apply(lambda x: \" \".join(jieba.cut(x)))"
   ]
  },
  {
   "cell_type": "code",
   "execution_count": 4,
   "metadata": {
    "scrolled": true
   },
   "outputs": [
    {
     "data": {
      "text/html": [
       "<div>\n",
       "<style scoped>\n",
       "    .dataframe tbody tr th:only-of-type {\n",
       "        vertical-align: middle;\n",
       "    }\n",
       "\n",
       "    .dataframe tbody tr th {\n",
       "        vertical-align: top;\n",
       "    }\n",
       "\n",
       "    .dataframe thead th {\n",
       "        text-align: right;\n",
       "    }\n",
       "</style>\n",
       "<table border=\"1\" class=\"dataframe\">\n",
       "  <thead>\n",
       "    <tr style=\"text-align: right;\">\n",
       "      <th></th>\n",
       "      <th>text</th>\n",
       "      <th>negative</th>\n",
       "    </tr>\n",
       "  </thead>\n",
       "  <tbody>\n",
       "    <tr>\n",
       "      <th>0</th>\n",
       "      <td>? ? ? ? 发表 了 博文 《 【 富 金利 】 9 月富 金利 教 你 如何 安全 提...</td>\n",
       "      <td>0</td>\n",
       "    </tr>\n",
       "    <tr>\n",
       "      <th>1</th>\n",
       "      <td># 小资 钱包 涉嫌 诈骗 [ 超话 ] ## 小资 钱包 [ 超话 ] ## 迫切 急待 ...</td>\n",
       "      <td>1</td>\n",
       "    </tr>\n",
       "    <tr>\n",
       "      <th>2</th>\n",
       "      <td>? ? ? ? ? 扫黑 除恶   诈骗犯 齐聚 海淀 ， 保护伞 根深蒂固 ， 黑社会 嚣...</td>\n",
       "      <td>1</td>\n",
       "    </tr>\n",
       "    <tr>\n",
       "      <th>3</th>\n",
       "      <td>平安 银行 车主 贷 ? ? ? ? ? ?   1 ? ? 期限 长至 48 期 ? ? ...</td>\n",
       "      <td>0</td>\n",
       "    </tr>\n",
       "    <tr>\n",
       "      <th>4</th>\n",
       "      <td>旺旺 贷跑 路 ！ 深圳 警方 确定 投资人 被 骗 ！</td>\n",
       "      <td>1</td>\n",
       "    </tr>\n",
       "  </tbody>\n",
       "</table>\n",
       "</div>"
      ],
      "text/plain": [
       "                                                text  negative\n",
       "0  ? ? ? ? 发表 了 博文 《 【 富 金利 】 9 月富 金利 教 你 如何 安全 提...         0\n",
       "1  # 小资 钱包 涉嫌 诈骗 [ 超话 ] ## 小资 钱包 [ 超话 ] ## 迫切 急待 ...         1\n",
       "2  ? ? ? ? ? 扫黑 除恶   诈骗犯 齐聚 海淀 ， 保护伞 根深蒂固 ， 黑社会 嚣...         1\n",
       "3  平安 银行 车主 贷 ? ? ? ? ? ?   1 ? ? 期限 长至 48 期 ? ? ...         0\n",
       "4                       旺旺 贷跑 路 ！ 深圳 警方 确定 投资人 被 骗 ！         1"
      ]
     },
     "execution_count": 4,
     "metadata": {},
     "output_type": "execute_result"
    }
   ],
   "source": [
    "df = df[['text','negative']]\n",
    "df.head()"
   ]
  },
  {
   "cell_type": "code",
   "execution_count": 5,
   "metadata": {},
   "outputs": [],
   "source": [
    "labels = np.array(df.negative)\n",
    "df = df[['text']]\n",
    "training_samples = int(len(labels)*.8)\n",
    "validation_samples = len(labels)-training_samples"
   ]
  },
  {
   "cell_type": "code",
   "execution_count": 6,
   "metadata": {},
   "outputs": [],
   "source": [
    "X_train = df[:training_samples]\n",
    "y_train = labels[:training_samples]\n",
    "X_valid = df[training_samples: training_samples + validation_samples]\n",
    "y_valid = labels[training_samples:training_samples + validation_samples]\n",
    "\n"
   ]
  },
  {
   "cell_type": "code",
   "execution_count": 7,
   "metadata": {},
   "outputs": [],
   "source": [
    "\n",
    "tfidf = TfidfVectorizer()\n",
    "X_train  = tfidf.fit_transform(X_train)\n"
   ]
  },
  {
   "cell_type": "code",
   "execution_count": 8,
   "metadata": {},
   "outputs": [
    {
     "name": "stderr",
     "output_type": "stream",
     "text": [
      "e:\\Users\\lenovo\\Anaconda3\\lib\\site-packages\\sklearn\\linear_model\\logistic.py:432: FutureWarning: Default solver will be changed to 'lbfgs' in 0.22. Specify a solver to silence this warning.\n",
      "  FutureWarning)\n"
     ]
    },
    {
     "ename": "ValueError",
     "evalue": "Found input variables with inconsistent numbers of samples: [1, 3999]",
     "output_type": "error",
     "traceback": [
      "\u001b[1;31m---------------------------------------------------------------------------\u001b[0m",
      "\u001b[1;31mValueError\u001b[0m                                Traceback (most recent call last)",
      "\u001b[1;32m<ipython-input-8-b94cb7db5509>\u001b[0m in \u001b[0;36m<module>\u001b[1;34m\u001b[0m\n\u001b[0;32m      1\u001b[0m \u001b[0mclassifier\u001b[0m\u001b[1;33m=\u001b[0m\u001b[0mLogisticRegression\u001b[0m\u001b[1;33m(\u001b[0m\u001b[1;33m)\u001b[0m\u001b[1;33m\u001b[0m\u001b[1;33m\u001b[0m\u001b[0m\n\u001b[1;32m----> 2\u001b[1;33m \u001b[0mclassifier\u001b[0m\u001b[1;33m.\u001b[0m\u001b[0mfit\u001b[0m\u001b[1;33m(\u001b[0m\u001b[0mX_train\u001b[0m\u001b[1;33m,\u001b[0m\u001b[0my_train\u001b[0m\u001b[1;33m)\u001b[0m\u001b[1;33m\u001b[0m\u001b[1;33m\u001b[0m\u001b[0m\n\u001b[0m\u001b[0;32m      3\u001b[0m \u001b[0mpredictions\u001b[0m\u001b[1;33m=\u001b[0m\u001b[0mclassifier\u001b[0m\u001b[1;33m.\u001b[0m\u001b[0mpredict\u001b[0m\u001b[1;33m(\u001b[0m\u001b[0mX_test\u001b[0m\u001b[1;33m)\u001b[0m\u001b[1;33m\u001b[0m\u001b[1;33m\u001b[0m\u001b[0m\n",
      "\u001b[1;32me:\\Users\\lenovo\\Anaconda3\\lib\\site-packages\\sklearn\\linear_model\\logistic.py\u001b[0m in \u001b[0;36mfit\u001b[1;34m(self, X, y, sample_weight)\u001b[0m\n\u001b[0;32m   1530\u001b[0m \u001b[1;33m\u001b[0m\u001b[0m\n\u001b[0;32m   1531\u001b[0m         X, y = check_X_y(X, y, accept_sparse='csr', dtype=_dtype, order=\"C\",\n\u001b[1;32m-> 1532\u001b[1;33m                          accept_large_sparse=solver != 'liblinear')\n\u001b[0m\u001b[0;32m   1533\u001b[0m         \u001b[0mcheck_classification_targets\u001b[0m\u001b[1;33m(\u001b[0m\u001b[0my\u001b[0m\u001b[1;33m)\u001b[0m\u001b[1;33m\u001b[0m\u001b[1;33m\u001b[0m\u001b[0m\n\u001b[0;32m   1534\u001b[0m         \u001b[0mself\u001b[0m\u001b[1;33m.\u001b[0m\u001b[0mclasses_\u001b[0m \u001b[1;33m=\u001b[0m \u001b[0mnp\u001b[0m\u001b[1;33m.\u001b[0m\u001b[0munique\u001b[0m\u001b[1;33m(\u001b[0m\u001b[0my\u001b[0m\u001b[1;33m)\u001b[0m\u001b[1;33m\u001b[0m\u001b[1;33m\u001b[0m\u001b[0m\n",
      "\u001b[1;32me:\\Users\\lenovo\\Anaconda3\\lib\\site-packages\\sklearn\\utils\\validation.py\u001b[0m in \u001b[0;36mcheck_X_y\u001b[1;34m(X, y, accept_sparse, accept_large_sparse, dtype, order, copy, force_all_finite, ensure_2d, allow_nd, multi_output, ensure_min_samples, ensure_min_features, y_numeric, warn_on_dtype, estimator)\u001b[0m\n\u001b[0;32m    727\u001b[0m         \u001b[0my\u001b[0m \u001b[1;33m=\u001b[0m \u001b[0my\u001b[0m\u001b[1;33m.\u001b[0m\u001b[0mastype\u001b[0m\u001b[1;33m(\u001b[0m\u001b[0mnp\u001b[0m\u001b[1;33m.\u001b[0m\u001b[0mfloat64\u001b[0m\u001b[1;33m)\u001b[0m\u001b[1;33m\u001b[0m\u001b[1;33m\u001b[0m\u001b[0m\n\u001b[0;32m    728\u001b[0m \u001b[1;33m\u001b[0m\u001b[0m\n\u001b[1;32m--> 729\u001b[1;33m     \u001b[0mcheck_consistent_length\u001b[0m\u001b[1;33m(\u001b[0m\u001b[0mX\u001b[0m\u001b[1;33m,\u001b[0m \u001b[0my\u001b[0m\u001b[1;33m)\u001b[0m\u001b[1;33m\u001b[0m\u001b[1;33m\u001b[0m\u001b[0m\n\u001b[0m\u001b[0;32m    730\u001b[0m \u001b[1;33m\u001b[0m\u001b[0m\n\u001b[0;32m    731\u001b[0m     \u001b[1;32mreturn\u001b[0m \u001b[0mX\u001b[0m\u001b[1;33m,\u001b[0m \u001b[0my\u001b[0m\u001b[1;33m\u001b[0m\u001b[1;33m\u001b[0m\u001b[0m\n",
      "\u001b[1;32me:\\Users\\lenovo\\Anaconda3\\lib\\site-packages\\sklearn\\utils\\validation.py\u001b[0m in \u001b[0;36mcheck_consistent_length\u001b[1;34m(*arrays)\u001b[0m\n\u001b[0;32m    203\u001b[0m     \u001b[1;32mif\u001b[0m \u001b[0mlen\u001b[0m\u001b[1;33m(\u001b[0m\u001b[0muniques\u001b[0m\u001b[1;33m)\u001b[0m \u001b[1;33m>\u001b[0m \u001b[1;36m1\u001b[0m\u001b[1;33m:\u001b[0m\u001b[1;33m\u001b[0m\u001b[1;33m\u001b[0m\u001b[0m\n\u001b[0;32m    204\u001b[0m         raise ValueError(\"Found input variables with inconsistent numbers of\"\n\u001b[1;32m--> 205\u001b[1;33m                          \" samples: %r\" % [int(l) for l in lengths])\n\u001b[0m\u001b[0;32m    206\u001b[0m \u001b[1;33m\u001b[0m\u001b[0m\n\u001b[0;32m    207\u001b[0m \u001b[1;33m\u001b[0m\u001b[0m\n",
      "\u001b[1;31mValueError\u001b[0m: Found input variables with inconsistent numbers of samples: [1, 3999]"
     ]
    }
   ],
   "source": [
    "classifier=LogisticRegression()\n",
    "classifier.fit(X_train,y_train)\n",
    "predictions=classifier.predict(X_test)"
   ]
  },
  {
   "cell_type": "code",
   "execution_count": null,
   "metadata": {},
   "outputs": [],
   "source": []
  },
  {
   "cell_type": "code",
   "execution_count": null,
   "metadata": {},
   "outputs": [],
   "source": []
  },
  {
   "cell_type": "code",
   "execution_count": null,
   "metadata": {},
   "outputs": [],
   "source": []
  },
  {
   "cell_type": "code",
   "execution_count": null,
   "metadata": {},
   "outputs": [],
   "source": []
  },
  {
   "cell_type": "code",
   "execution_count": null,
   "metadata": {},
   "outputs": [],
   "source": []
  },
  {
   "cell_type": "code",
   "execution_count": null,
   "metadata": {},
   "outputs": [],
   "source": []
  },
  {
   "cell_type": "code",
   "execution_count": null,
   "metadata": {},
   "outputs": [],
   "source": []
  }
 ],
 "metadata": {
  "kernelspec": {
   "display_name": "Python 3",
   "language": "python",
   "name": "python3"
  },
  "language_info": {
   "codemirror_mode": {
    "name": "ipython",
    "version": 3
   },
   "file_extension": ".py",
   "mimetype": "text/x-python",
   "name": "python",
   "nbconvert_exporter": "python",
   "pygments_lexer": "ipython3",
   "version": "3.7.3"
  }
 },
 "nbformat": 4,
 "nbformat_minor": 2
}
